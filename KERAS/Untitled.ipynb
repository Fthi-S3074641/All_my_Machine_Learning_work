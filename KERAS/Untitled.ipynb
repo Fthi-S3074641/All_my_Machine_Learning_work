{
 "cells": [
  {
   "cell_type": "code",
   "execution_count": 31,
   "metadata": {
    "collapsed": false
   },
   "outputs": [],
   "source": [
    "from keras.models import Sequential\n",
    "from keras.layers import Dense"
   ]
  },
  {
   "cell_type": "code",
   "execution_count": 32,
   "metadata": {
    "collapsed": true
   },
   "outputs": [],
   "source": [
    "#create a model\n",
    "model = Sequential()"
   ]
  },
  {
   "cell_type": "code",
   "execution_count": 33,
   "metadata": {
    "collapsed": true
   },
   "outputs": [],
   "source": [
    "layer1 = Dense(32,activation = 'relu',input_dim = 30,)\n",
    "model.add(layer1)\n",
    "model.add(Dense(units = 16,activation = 'relu'))\n",
    "model.add(Dense(units = 1,activation = 'sigmoid'))"
   ]
  },
  {
   "cell_type": "code",
   "execution_count": 34,
   "metadata": {
    "collapsed": true
   },
   "outputs": [],
   "source": [
    "model.compile(optimizer = 'adam' , loss = 'binary_crossentropy',metrics= ['accuracy'])"
   ]
  },
  {
   "cell_type": "code",
   "execution_count": 35,
   "metadata": {
    "collapsed": true
   },
   "outputs": [],
   "source": [
    "from sklearn import datasets\n",
    "cancer = datasets.load_breast_cancer()\n",
    "from sklearn.model_selection import train_test_split as tts\n",
    "xtrain,xtest,ytrain,ytest = tts(cancer.data,cancer.target,test_size=0.2,random_state = 0)\n",
    "from sklearn.preprocessing import StandardScaler\n",
    "sc = StandardScaler()\n",
    "xtrain = sc.fit_transform(xtrain)\n",
    "xtest = sc.transform(xtest)"
   ]
  },
  {
   "cell_type": "code",
   "execution_count": 40,
   "metadata": {
    "collapsed": false
   },
   "outputs": [
    {
     "name": "stdout",
     "output_type": "stream",
     "text": [
      "Train on 455 samples, validate on 114 samples\n",
      "Epoch 1/20\n",
      "455/455 [==============================] - 0s 33us/step - loss: 0.0441 - acc: 0.9868 - val_loss: 0.1137 - val_acc: 0.9737\n",
      "Epoch 2/20\n",
      "455/455 [==============================] - 0s 40us/step - loss: 0.0433 - acc: 0.9868 - val_loss: 0.1132 - val_acc: 0.9737\n",
      "Epoch 3/20\n",
      "455/455 [==============================] - 0s 38us/step - loss: 0.0446 - acc: 0.9868 - val_loss: 0.1203 - val_acc: 0.9737\n",
      "Epoch 4/20\n",
      "455/455 [==============================] - 0s 35us/step - loss: 0.0430 - acc: 0.9846 - val_loss: 0.1197 - val_acc: 0.9737\n",
      "Epoch 5/20\n",
      "455/455 [==============================] - 0s 40us/step - loss: 0.0416 - acc: 0.9868 - val_loss: 0.1177 - val_acc: 0.9737\n",
      "Epoch 6/20\n",
      "455/455 [==============================] - 0s 33us/step - loss: 0.0399 - acc: 0.9868 - val_loss: 0.1175 - val_acc: 0.9737\n",
      "Epoch 7/20\n",
      "455/455 [==============================] - 0s 41us/step - loss: 0.0395 - acc: 0.9868 - val_loss: 0.1166 - val_acc: 0.9737\n",
      "Epoch 8/20\n",
      "455/455 [==============================] - 0s 35us/step - loss: 0.0384 - acc: 0.9868 - val_loss: 0.1169 - val_acc: 0.9649\n",
      "Epoch 9/20\n",
      "455/455 [==============================] - 0s 39us/step - loss: 0.0374 - acc: 0.9868 - val_loss: 0.1172 - val_acc: 0.9561\n",
      "Epoch 10/20\n",
      "455/455 [==============================] - 0s 43us/step - loss: 0.0366 - acc: 0.9868 - val_loss: 0.1177 - val_acc: 0.9649\n",
      "Epoch 11/20\n",
      "455/455 [==============================] - 0s 37us/step - loss: 0.0360 - acc: 0.9868 - val_loss: 0.1177 - val_acc: 0.9737\n",
      "Epoch 12/20\n",
      "455/455 [==============================] - 0s 38us/step - loss: 0.0354 - acc: 0.9868 - val_loss: 0.1175 - val_acc: 0.9737\n",
      "Epoch 13/20\n",
      "455/455 [==============================] - 0s 44us/step - loss: 0.0345 - acc: 0.9868 - val_loss: 0.1179 - val_acc: 0.9737\n",
      "Epoch 14/20\n",
      "455/455 [==============================] - 0s 36us/step - loss: 0.0340 - acc: 0.9890 - val_loss: 0.1177 - val_acc: 0.9737\n",
      "Epoch 15/20\n",
      "455/455 [==============================] - 0s 36us/step - loss: 0.0333 - acc: 0.9890 - val_loss: 0.1178 - val_acc: 0.9737\n",
      "Epoch 16/20\n",
      "455/455 [==============================] - 0s 46us/step - loss: 0.0328 - acc: 0.9890 - val_loss: 0.1176 - val_acc: 0.9737\n",
      "Epoch 17/20\n",
      "455/455 [==============================] - 0s 39us/step - loss: 0.0321 - acc: 0.9890 - val_loss: 0.1172 - val_acc: 0.9737\n",
      "Epoch 18/20\n",
      "455/455 [==============================] - 0s 44us/step - loss: 0.0315 - acc: 0.9890 - val_loss: 0.1166 - val_acc: 0.9737\n",
      "Epoch 19/20\n",
      "455/455 [==============================] - 0s 47us/step - loss: 0.0308 - acc: 0.9890 - val_loss: 0.1144 - val_acc: 0.9737\n",
      "Epoch 20/20\n",
      "455/455 [==============================] - 0s 49us/step - loss: 0.0303 - acc: 0.9890 - val_loss: 0.1139 - val_acc: 0.9737\n"
     ]
    },
    {
     "data": {
      "text/plain": [
       "<keras.callbacks.History at 0x7f5f8a1c5c18>"
      ]
     },
     "execution_count": 40,
     "metadata": {},
     "output_type": "execute_result"
    }
   ],
   "source": [
    "model.fit(xtrain,ytrain,epochs=20,batch_size = 50,validation_data = (xtest,ytest))"
   ]
  },
  {
   "cell_type": "code",
   "execution_count": 41,
   "metadata": {
    "collapsed": false
   },
   "outputs": [
    {
     "name": "stdout",
     "output_type": "stream",
     "text": [
      "114/114 [==============================] - 0s 33us/step\n"
     ]
    },
    {
     "data": {
      "text/plain": [
       "[0.11392804614284582, 0.9736842063435337]"
      ]
     },
     "execution_count": 41,
     "metadata": {},
     "output_type": "execute_result"
    }
   ],
   "source": [
    "predictions = model.predict(xtest)\n",
    "score = model.evaluate(xtest,ytest)\n",
    "score #loss fn , accuracy"
   ]
  },
  {
   "cell_type": "code",
   "execution_count": null,
   "metadata": {
    "collapsed": true
   },
   "outputs": [],
   "source": []
  }
 ],
 "metadata": {
  "kernelspec": {
   "display_name": "Python [conda env:anaconda3]",
   "language": "python",
   "name": "conda-env-anaconda3-py"
  },
  "language_info": {
   "codemirror_mode": {
    "name": "ipython",
    "version": 3
   },
   "file_extension": ".py",
   "mimetype": "text/x-python",
   "name": "python",
   "nbconvert_exporter": "python",
   "pygments_lexer": "ipython3",
   "version": "3.5.5"
  }
 },
 "nbformat": 4,
 "nbformat_minor": 1
}

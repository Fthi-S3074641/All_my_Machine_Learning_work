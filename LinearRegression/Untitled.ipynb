{
 "cells": [
  {
   "cell_type": "code",
   "execution_count": 8,
   "metadata": {
    "collapsed": false
   },
   "outputs": [
    {
     "data": {
      "text/plain": [
       "[1, 2, 3, 4, 5, 6, 7, 8]"
      ]
     },
     "execution_count": 8,
     "metadata": {},
     "output_type": "execute_result"
    }
   ],
   "source": [
    "a = [1,3,5,7]\n",
    "b = [2,4,6,8]\n",
    "a.append(1000000)\n",
    "b.append(1000000)\n",
    "c = []\n",
    "i=j=0\n",
    "while(a[i]!=1000000 or b[j]!=1000000):\n",
    "    if a[i]<=b[j]:\n",
    "        c.append(a[i])\n",
    "        i+=1\n",
    "    else:\n",
    "        c.append(b[j])\n",
    "        j+=1\n",
    "c"
   ]
  },
  {
   "cell_type": "code",
   "execution_count": null,
   "metadata": {
    "collapsed": false
   },
   "outputs": [],
   "source": [
    "a = [10,9,5,2,6]\n",
    "def part(a,s,e):\n",
    "    k=e\n",
    "    j = s\n",
    "    i = s\n",
    "    while(i<e):\n",
    "        if a[i]<a[k] and a[j]>a[k]:\n",
    "            a[i],a[j]=a[j],a[i]\n",
    "            i+=1\n",
    "            j+=1\n",
    "        elif a[i]>a[k] :\n",
    "            i+=1\n",
    "    a[j],a[k]=a[k],a[j]\n",
    "    return j\n",
    "def quick(a,p,r):\n",
    "    if(p<r):\n",
    "        q = part(a,p,r)\n",
    "        #print(a[q])\n",
    "        quick(a,p,q-1)\n",
    "        quick(a,q+1,r)\n",
    "quick(a,0,len(a)-1)\n",
    "#m = part(a,0,len(a)-1)\n",
    "#print(m,a)\n",
    "#l = part(a,0,m-1)\n",
    "#l,a'''\n",
    "a"
   ]
  }
 ],
 "metadata": {
  "anaconda-cloud": {},
  "kernelspec": {
   "display_name": "Python [conda root]",
   "language": "python",
   "name": "conda-root-py"
  },
  "language_info": {
   "codemirror_mode": {
    "name": "ipython",
    "version": 3
   },
   "file_extension": ".py",
   "mimetype": "text/x-python",
   "name": "python",
   "nbconvert_exporter": "python",
   "pygments_lexer": "ipython3",
   "version": "3.5.2"
  }
 },
 "nbformat": 4,
 "nbformat_minor": 1
}

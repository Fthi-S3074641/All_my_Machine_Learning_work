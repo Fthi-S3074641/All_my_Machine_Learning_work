{
 "cells": [
  {
   "cell_type": "code",
   "execution_count": 36,
   "metadata": {
    "collapsed": true
   },
   "outputs": [],
   "source": [
    "import numpy as np"
   ]
  },
  {
   "cell_type": "code",
   "execution_count": 37,
   "metadata": {
    "collapsed": false
   },
   "outputs": [],
   "source": [
    "data = np.loadtxt(\"data.csv\",delimiter = \",\")\n",
    "x = data[:,0]\n",
    "y = data[:,1]"
   ]
  },
  {
   "cell_type": "code",
   "execution_count": 38,
   "metadata": {
    "collapsed": false
   },
   "outputs": [],
   "source": [
    "from sklearn import model_selection\n",
    "xtrain , xtest , ytrain , ytest = model_selection.train_test_split(x,y,test_size=0.3)"
   ]
  },
  {
   "cell_type": "code",
   "execution_count": 45,
   "metadata": {
    "collapsed": false
   },
   "outputs": [],
   "source": [
    "def fit(xtrain,ytrain):\n",
    "    num = (xtrain*ytrain).mean() - xtrain.mean() * ytrain.mean()\n",
    "    den = (xtrain**2).mean() - xtrain.mean()**2\n",
    "    m = num/den\n",
    "    c= ytrain.mean() - m *xtrain.mean()\n",
    "    return m,c"
   ]
  },
  {
   "cell_type": "code",
   "execution_count": 47,
   "metadata": {
    "collapsed": false
   },
   "outputs": [],
   "source": [
    "def predict(x,m,c):\n",
    "    ypre = m*x + c\n",
    "    return ypre\n"
   ]
  },
  {
   "cell_type": "code",
   "execution_count": 44,
   "metadata": {
    "collapsed": true
   },
   "outputs": [],
   "source": [
    "    def COD(ytrue,ypred):\n",
    "        u = ((ytrue - ypred)**2).sum()\n",
    "        v = ((ytrue - ytrue.mean())**2).sum()\n",
    "        return 1 - u/v\n",
    "    def cost(x,y,m,c):\n",
    "        c = ((y - m*x)**2).mean()\n",
    "        return c"
   ]
  },
  {
   "cell_type": "code",
   "execution_count": 50,
   "metadata": {
    "collapsed": false
   },
   "outputs": [
    {
     "name": "stdout",
     "output_type": "stream",
     "text": [
      "Test Score:  0.673275226949\n",
      "Train Score:  0.552754979695\n",
      "M, C  1.24916958048 11.9716172999\n",
      "Cost on training data  256.327920192\n"
     ]
    }
   ],
   "source": [
    "m, c = fit(xtrain, ytrain)\n",
    "# test data\n",
    "y_test_pred = predict(xtest, m, c)\n",
    "print(\"Test Score: \",COD(ytest, y_test_pred))\n",
    "\n",
    "#train data\n",
    "y_train_pred = predict(xtrain, m, c)\n",
    "print(\"Train Score: \", COD(ytrain, y_train_pred))\n",
    "print(\"M, C \", m , c)\n",
    "print(\"Cost on training data \", cost(xtrain,ytrain, m, c ))"
   ]
  },
  {
   "cell_type": "code",
   "execution_count": null,
   "metadata": {
    "collapsed": true
   },
   "outputs": [],
   "source": []
  }
 ],
 "metadata": {
  "anaconda-cloud": {},
  "kernelspec": {
   "display_name": "Python [conda root]",
   "language": "python",
   "name": "conda-root-py"
  },
  "language_info": {
   "codemirror_mode": {
    "name": "ipython",
    "version": 3
   },
   "file_extension": ".py",
   "mimetype": "text/x-python",
   "name": "python",
   "nbconvert_exporter": "python",
   "pygments_lexer": "ipython3",
   "version": "3.5.2"
  }
 },
 "nbformat": 4,
 "nbformat_minor": 1
}

{
 "cells": [
  {
   "cell_type": "code",
   "execution_count": 1,
   "metadata": {
    "collapsed": true
   },
   "outputs": [],
   "source": [
    "import numpy as np"
   ]
  },
  {
   "cell_type": "code",
   "execution_count": 3,
   "metadata": {
    "collapsed": false
   },
   "outputs": [
    {
     "data": {
      "text/plain": [
       "((4, 2), (4, 1))"
      ]
     },
     "execution_count": 3,
     "metadata": {},
     "output_type": "execute_result"
    }
   ],
   "source": [
    "X = np.array([[0,0], [0,1], [1,0], [1,1]])\n",
    "Y = np.array([[0,0,0,1]]).T\n",
    "X.shape, Y.shape"
   ]
  },
  {
   "cell_type": "code",
   "execution_count": 4,
   "metadata": {
    "collapsed": true
   },
   "outputs": [],
   "source": [
    "def sig(z):\n",
    "    return 1/(1 + np.exp(-z))"
   ]
  },
  {
   "cell_type": "code",
   "execution_count": 11,
   "metadata": {
    "collapsed": true
   },
   "outputs": [],
   "source": [
    "def derivativeSig(z):\n",
    "    return sig(z)*(1-sig(z))"
   ]
  },
  {
   "cell_type": "code",
   "execution_count": 12,
   "metadata": {
    "collapsed": false
   },
   "outputs": [
    {
     "data": {
      "text/plain": [
       "(array([[-0.00894932],\n",
       "        [-0.20218725]]), array([ 0.89805607]))"
      ]
     },
     "execution_count": 12,
     "metadata": {},
     "output_type": "execute_result"
    }
   ],
   "source": [
    "# no hidden layer weights\n",
    "weights = 2* np.random.random((2, 1)) - 1\n",
    "bias = 2 * np.random.random(1) - 1\n",
    "weights, bias"
   ]
  },
  {
   "cell_type": "code",
   "execution_count": 13,
   "metadata": {
    "collapsed": false
   },
   "outputs": [
    {
     "data": {
      "text/plain": [
       "array([[ 0.71054986],\n",
       "       [ 0.6672712 ],\n",
       "       [ 0.7087058 ],\n",
       "       [ 0.6652813 ]])"
      ]
     },
     "execution_count": 13,
     "metadata": {},
     "output_type": "execute_result"
    }
   ],
   "source": [
    "# forward propagation without any hidden layer\n",
    "output0 = X\n",
    "output = sig(np.dot(output0, weights) + bias)\n",
    "output"
   ]
  },
  {
   "cell_type": "code",
   "execution_count": 17,
   "metadata": {
    "collapsed": true
   },
   "outputs": [],
   "source": [
    "# one hidden layer weights\n",
    "wh = 2* np.random.random((2, 2)) - 1\n",
    "bh = 2* np.random.random((1, 2)) - 1\n",
    "wo = 2 * np.random.random((2, 1)) - 1\n",
    "bo = 2 * np.random.random((1,1)) - 1\n",
    "lr = 0.1"
   ]
  },
  {
   "cell_type": "code",
   "execution_count": 18,
   "metadata": {
    "collapsed": false
   },
   "outputs": [
    {
     "data": {
      "text/plain": [
       "(array([[ 5.47101775],\n",
       "        [ 5.47101775]]), array([-8.29925618]), array([[  2.48639910e-04],\n",
       "        [  5.58171628e-02],\n",
       "        [  5.58171629e-02],\n",
       "        [  9.33564551e-01]]))"
      ]
     },
     "execution_count": 18,
     "metadata": {},
     "output_type": "execute_result"
    }
   ],
   "source": [
    "# nn for no hidden layer\n",
    "'''\n",
    "for iter in range(10000):\n",
    "    output0 = X\n",
    "    output = sig(np.dot(output0, weights) + bias)\n",
    "\n",
    "    first_term = output - Y\n",
    "    input_for_last_layer = np.dot(output0, weights) + bias\n",
    "    second_term = derivativeSig(input_for_last_layer)\n",
    "    first_two = first_term * second_term\n",
    "    first_two.shape\n",
    "\n",
    "    changes = np.dot(output0.T, first_two)\n",
    "    weights = weights - lr*changes\n",
    "    bias_change = np.sum(first_two)\n",
    "    bias = bias - lr * bias_change\n",
    "output = sig(np.dot(X, weights) + bias)\n",
    "weights, bias, output\n",
    "'''"
   ]
  },
  {
   "cell_type": "code",
   "execution_count": 20,
   "metadata": {
    "collapsed": false
   },
   "outputs": [
    {
     "data": {
      "text/plain": [
       "(array([[  8.16369175e-04],\n",
       "        [  1.60727143e-02],\n",
       "        [  1.59950405e-02],\n",
       "        [  9.76704427e-01]]), array([[ 2.59988015, -3.14210246],\n",
       "        [ 2.73830571, -3.00957843]]), array([[-3.64347602,  4.29248631]]), array([[ 6.04768657],\n",
       "        [-6.91613501]]), array([[-0.44114822]]))"
      ]
     },
     "execution_count": 20,
     "metadata": {},
     "output_type": "execute_result"
    }
   ],
   "source": [
    "# forward propagation with one hidden layer\n",
    "for iter in range(10000):\n",
    "        output0 = X\n",
    "        inputHidden = np.dot(output0,wh)+bh\n",
    "        outputHidden = sig(inputHidden) \n",
    "        inputforOutputLayer = np.dot(outputHidden,wo)+bo\n",
    "        output = sig(np.dot(outputHidden, wo) + bo)\n",
    "        first_term_for_output_layer = output-Y\n",
    "        second_term_for_output_layer = derivativeSig(inputforOutputLayer)\n",
    "        first_two_output_layer = first_term_for_output_layer*second_term_for_output_layer\n",
    "\n",
    "        first_term_hidden_layer = np.dot(first_two_output_layer,wo.T)\n",
    "        second_term_hidden_layer = derivativeSig(inputHidden)\n",
    "        first_two_hidden_layer = first_term_hidden_layer * second_term_hidden_layer\n",
    "\n",
    "        changes = np.dot(outputHidden.T,first_two_output_layer)\n",
    "\n",
    "        changes_output = np.dot(outputHidden.T,first_two_output_layer)\n",
    "        changes_output_bias = np.sum(first_two_output_layer,axis = 0,keepdims = True)\n",
    "\n",
    "        changes_hidden = np.dot(output0.T,first_two_hidden_layer)\n",
    "        changes_hidden_bias = np.sum(first_two_hidden_layer,axis = 0,keepdims = True)\n",
    "\n",
    "        wo = wo - lr* changes_output\n",
    "        bo = bo - lr*changes_output_bias\n",
    "\n",
    "        wh = wh-lr*changes_hidden\n",
    "        bh = bh - lr*changes_hidden_bias\n",
    "output0 = X\n",
    "inputHidden = np.dot(output0,wh)+bh\n",
    "outputHidden = sig(inputHidden) \n",
    "inputforOutputLayer = np.dot(outputHidden,wo)+bo\n",
    "output = sig(np.dot(outputHidden, wo) + bo)\n",
    "output , wh , bh , wo,bo"
   ]
  },
  {
   "cell_type": "code",
   "execution_count": null,
   "metadata": {
    "collapsed": true
   },
   "outputs": [],
   "source": []
  }
 ],
 "metadata": {
  "kernelspec": {
   "display_name": "Python [default]",
   "language": "python",
   "name": "python3"
  },
  "language_info": {
   "codemirror_mode": {
    "name": "ipython",
    "version": 3
   },
   "file_extension": ".py",
   "mimetype": "text/x-python",
   "name": "python",
   "nbconvert_exporter": "python",
   "pygments_lexer": "ipython3",
   "version": "3.5.5"
  }
 },
 "nbformat": 4,
 "nbformat_minor": 2
}

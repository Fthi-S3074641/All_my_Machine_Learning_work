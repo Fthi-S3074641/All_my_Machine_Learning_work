{
 "cells": [
  {
   "cell_type": "code",
   "execution_count": 1,
   "metadata": {
    "collapsed": true
   },
   "outputs": [],
   "source": [
    "import numpy as np"
   ]
  },
  {
   "cell_type": "code",
   "execution_count": 17,
   "metadata": {
    "collapsed": true
   },
   "outputs": [],
   "source": [
    "def step_gd(points,l_rate,m,c):\n",
    "    m_slope = 0\n",
    "    c_slope = 0\n",
    "    for i in range(len(points)):\n",
    "        x = points[i,0]\n",
    "        y = points[i,1]\n",
    "        m_slope += (-2/len(points))*(y - m*x - c)*x\n",
    "        c_slope += (-2/len(points))*(y - m*x - c)\n",
    "    new_m = m - l_rate*m_slope\n",
    "    new_c = c - l_rate*c_slope\n",
    "    return new_m , new_c"
   ]
  },
  {
   "cell_type": "code",
   "execution_count": 18,
   "metadata": {
    "collapsed": true
   },
   "outputs": [],
   "source": [
    "def grad_desc(points,l_rate,iterations):\n",
    "    m=0\n",
    "    c=0\n",
    "    for i in range(iterations):\n",
    "        m,c = step_gd(points,l_rate,m,c)\n",
    "    return m,c"
   ]
  },
  {
   "cell_type": "code",
   "execution_count": 19,
   "metadata": {
    "collapsed": false
   },
   "outputs": [],
   "source": [
    "def  run():\n",
    "    data = np.loadtxt(\"data.csv\",delimiter = ',')\n",
    "    l_rate = 0.0001\n",
    "    iterations = 1000\n",
    "    m,c = grad_desc(data,l_rate,iterations)\n",
    "    print(m,c)"
   ]
  },
  {
   "cell_type": "code",
   "execution_count": 20,
   "metadata": {
    "collapsed": false
   },
   "outputs": [
    {
     "name": "stdout",
     "output_type": "stream",
     "text": [
      "1.47774408519 0.0889365199374\n"
     ]
    }
   ],
   "source": [
    "run()"
   ]
  },
  {
   "cell_type": "code",
   "execution_count": null,
   "metadata": {
    "collapsed": true
   },
   "outputs": [],
   "source": []
  }
 ],
 "metadata": {
  "anaconda-cloud": {},
  "kernelspec": {
   "display_name": "Python [conda root]",
   "language": "python",
   "name": "conda-root-py"
  },
  "language_info": {
   "codemirror_mode": {
    "name": "ipython",
    "version": 3
   },
   "file_extension": ".py",
   "mimetype": "text/x-python",
   "name": "python",
   "nbconvert_exporter": "python",
   "pygments_lexer": "ipython3",
   "version": "3.5.2"
  }
 },
 "nbformat": 4,
 "nbformat_minor": 1
}
